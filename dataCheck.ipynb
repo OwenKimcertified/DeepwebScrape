{
 "cells": [
  {
   "cell_type": "code",
   "execution_count": 4,
   "id": "835c878c",
   "metadata": {},
   "outputs": [],
   "source": [
    "from pymongo import MongoClient\n",
    "from config import *\n",
    "from pprint import pprint\n",
    "\n",
    "client = MongoClient(\"mongodb://localhost:27017\")\n",
    "db = client[DB]\n",
    "\n",
    "collection = db['ransomware']\n",
    "# collection.delete_many({})\n",
    "\n",
    "mongoCursor = collection.find().limit(10)\n",
    "\n",
    "for doc in mongoCursor:\n",
    "    pprint(doc)"
   ]
  },
  {
   "cell_type": "code",
   "execution_count": 3,
   "id": "3b3d4f9f",
   "metadata": {},
   "outputs": [],
   "source": [
    "db = client[DB]\n",
    "collection = db['forum_user']\n",
    "# collection.delete_many({})\n",
    "\n",
    "mongoCursor = collection.find()\n",
    "\n",
    "\n",
    "for doc in mongoCursor: \n",
    "    pprint(doc)"
   ]
  },
  {
   "cell_type": "code",
   "execution_count": null,
   "id": "3c1dd502",
   "metadata": {},
   "outputs": [],
   "source": [
    "db = client[DB]\n",
    "collection = db['forum_post']\n",
    "# collection.delete_many({})\n",
    "\n",
    "mongoCursor = collection.find()\n",
    "\n",
    "for doc in mongoCursor:\n",
    "    pprint(doc)"
   ]
  },
  {
   "cell_type": "code",
   "execution_count": null,
   "id": "ff986b8d",
   "metadata": {},
   "outputs": [],
   "source": [
    "db = client[DB]\n",
    "collection = db['rebuild_ransomware']\n",
    "# collection.delete_many({})\n",
    "\n",
    "mongoCursor = collection.find()\n",
    "\n",
    "\n",
    "for doc in mongoCursor: \n",
    "    pprint(doc)"
   ]
  },
  {
   "cell_type": "code",
   "execution_count": null,
   "id": "5a15abbe",
   "metadata": {},
   "outputs": [],
   "source": [
    "db = client[DB]\n",
    "collection = db['rebuild_forum_user']\n",
    "# collection.delete_many({})\n",
    "\n",
    "mongoCursor = collection.find()\n",
    "\n",
    "\n",
    "for doc in mongoCursor: \n",
    "    pprint(doc)"
   ]
  },
  {
   "cell_type": "code",
   "execution_count": null,
   "id": "f0997dce",
   "metadata": {},
   "outputs": [],
   "source": [
    "db = client[DB]\n",
    "collection = db['rebuild_forum_post']\n",
    "# collection.delete_many({})\n",
    "\n",
    "mongoCursor = collection.find()\n",
    "\n",
    "\n",
    "for doc in mongoCursor: \n",
    "    pprint(doc)"
   ]
  }
 ],
 "metadata": {
  "kernelspec": {
   "display_name": "recurit",
   "language": "python",
   "name": "python3"
  },
  "language_info": {
   "codemirror_mode": {
    "name": "ipython",
    "version": 3
   },
   "file_extension": ".py",
   "mimetype": "text/x-python",
   "name": "python",
   "nbconvert_exporter": "python",
   "pygments_lexer": "ipython3",
   "version": "3.11.0"
  }
 },
 "nbformat": 4,
 "nbformat_minor": 5
}
